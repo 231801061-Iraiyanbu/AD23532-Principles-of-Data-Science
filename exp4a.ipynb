{
 "cells": [
  {
   "cell_type": "code",
   "execution_count": 1,
   "metadata": {
    "colab": {
     "base_uri": "https://localhost:8080/"
    },
    "executionInfo": {
     "elapsed": 20211,
     "status": "error",
     "timestamp": 1754536514608,
     "user": {
      "displayName": "IRAIYANBU S T 231801061",
      "userId": "09830804704541778786"
     },
     "user_tz": -330
    },
    "id": "UUD-TDQdfoHd",
    "outputId": "c4ad1d7c-7dc4-4e8f-e785-2293fabda2f0"
   },
   "outputs": [
    {
     "name": "stdout",
     "output_type": "stream",
     "text": [
      "Defaulting to user installation because normal site-packages is not writeable\n",
      "Requirement already satisfied: pandas in c:\\programdata\\anaconda3\\lib\\site-packages (2.0.3)\n",
      "Requirement already satisfied: numpy in c:\\programdata\\anaconda3\\lib\\site-packages (1.24.3)\n",
      "Requirement already satisfied: scikit-learn in c:\\programdata\\anaconda3\\lib\\site-packages (1.3.0)\n",
      "Requirement already satisfied: nltk in c:\\programdata\\anaconda3\\lib\\site-packages (3.8.1)\n",
      "Requirement already satisfied: python-dateutil>=2.8.2 in c:\\programdata\\anaconda3\\lib\\site-packages (from pandas) (2.8.2)\n",
      "Requirement already satisfied: pytz>=2020.1 in c:\\programdata\\anaconda3\\lib\\site-packages (from pandas) (2023.3.post1)\n",
      "Requirement already satisfied: tzdata>=2022.1 in c:\\programdata\\anaconda3\\lib\\site-packages (from pandas) (2023.3)\n",
      "Requirement already satisfied: scipy>=1.5.0 in c:\\programdata\\anaconda3\\lib\\site-packages (from scikit-learn) (1.11.1)\n",
      "Requirement already satisfied: joblib>=1.1.1 in c:\\programdata\\anaconda3\\lib\\site-packages (from scikit-learn) (1.2.0)\n",
      "Requirement already satisfied: threadpoolctl>=2.0.0 in c:\\programdata\\anaconda3\\lib\\site-packages (from scikit-learn) (2.2.0)\n",
      "Requirement already satisfied: click in c:\\programdata\\anaconda3\\lib\\site-packages (from nltk) (8.0.4)\n",
      "Requirement already satisfied: regex>=2021.8.3 in c:\\programdata\\anaconda3\\lib\\site-packages (from nltk) (2022.7.9)\n",
      "Requirement already satisfied: tqdm in c:\\programdata\\anaconda3\\lib\\site-packages (from nltk) (4.65.0)\n",
      "Requirement already satisfied: six>=1.5 in c:\\programdata\\anaconda3\\lib\\site-packages (from python-dateutil>=2.8.2->pandas) (1.16.0)\n",
      "Requirement already satisfied: colorama in c:\\programdata\\anaconda3\\lib\\site-packages (from click->nltk) (0.4.6)\n"
     ]
    },
    {
     "name": "stderr",
     "output_type": "stream",
     "text": [
      "[nltk_data] Downloading package stopwords to\n",
      "[nltk_data]     C:\\Users\\TCS\\AppData\\Roaming\\nltk_data...\n",
      "[nltk_data]   Unzipping corpora\\stopwords.zip.\n",
      "[nltk_data] Downloading package punkt to\n",
      "[nltk_data]     C:\\Users\\TCS\\AppData\\Roaming\\nltk_data...\n",
      "[nltk_data]   Unzipping tokenizers\\punkt.zip.\n"
     ]
    },
    {
     "name": "stdout",
     "output_type": "stream",
     "text": [
      "Query: great product with fast shipping\n",
      "                                            Original  \\\n",
      "0  Enjoyed the product and they also provided ver...   \n",
      "1  The tea is good and fresh. We enjoy it. The sh...   \n",
      "2  My daughter lives in Hawaii and sent me some g...   \n",
      "3  The energy drink is a great product. The shipp...   \n",
      "4  Fast shipping, items were packaged nicely and ...   \n",
      "\n",
      "                                             Cleaned  Similarity  \n",
      "0  enjoyed product also provided fast shipping im...    0.502383  \n",
      "1  tea good fresh enjoy shipping fast cost reason...    0.443917  \n",
      "2  daughter lives hawaii sent great coffee keurig...    0.405738  \n",
      "3  energy drink great product shipping price craz...    0.403072  \n",
      "4  fast shipping items packaged nicely described ...    0.390348  \n",
      "\n",
      "Query: disappointed\n",
      "                                            Original  \\\n",
      "0  I am a bit disappointed.  The flavor was not w...   \n",
      "1  The product is very good. Way too expensive an...   \n",
      "2  Disappointed.  The big boxes had a very differ...   \n",
      "3  Just plain nasty!!! This item tasted like card...   \n",
      "4  this stuff really works, i love it and cant ge...   \n",
      "\n",
      "                                             Cleaned  Similarity  \n",
      "0            bit disappointed flavor wanted expected    0.485029  \n",
      "1  product good way expensive almost box get panc...    0.356803  \n",
      "2  disappointed big boxes different flavor smalle...    0.320826  \n",
      "3  plain nasty item tasted like cardboard watered...    0.311353  \n",
      "4  stuff really works love cant get enough tastes...    0.308053  \n"
     ]
    }
   ],
   "source": [
    "!pip install pandas numpy scikit-learn nltk\n",
    "import pandas as pd\n",
    "import numpy as np\n",
    "import re\n",
    "import nltk\n",
    "from sklearn.feature_extraction.text import TfidfVectorizer\n",
    "from sklearn.metrics.pairwise import cosine_similarity\n",
    "\n",
    "nltk.download('stopwords')\n",
    "nltk.download('punkt')\n",
    "from nltk.corpus import stopwords\n",
    "from nltk.tokenize import word_tokenize\n",
    "\n",
    "df = pd.read_csv('Reviews.csv')\n",
    "reviews = df['Text'].dropna().head(10000)  # a. Select column, b. Remove nulls, c. Limit to 10,000\n",
    "\n",
    "stop_words = set(stopwords.words('english'))\n",
    "\n",
    "def preprocess(text):\n",
    "    text = text.lower()  # a. Lowercase\n",
    "    text = re.sub(r'[^a-z\\s]', '', text)  # b. Remove punctuation/special chars\n",
    "    tokens = word_tokenize(text)  # c. Tokenize\n",
    "    tokens = [word for word in tokens if word not in stop_words]  # d. Remove stopwords\n",
    "    return ' '.join(tokens)  # e. Join tokens\n",
    "\n",
    "cleaned_reviews = reviews.apply(preprocess)\n",
    "\n",
    "vectorizer = TfidfVectorizer()\n",
    "tfidf_matrix = vectorizer.fit_transform(cleaned_reviews)\n",
    "\n",
    "def retrieve_reviews(query, top_k=5):\n",
    "    query_clean = preprocess(query)  # a. Preprocess query\n",
    "    query_vec = vectorizer.transform([query_clean])  # b. TF-IDF vector\n",
    "    similarity = cosine_similarity(query_vec, tfidf_matrix).flatten()  # c. Cosine similarity\n",
    "    top_indices = similarity.argsort()[-top_k:][::-1]  # d. Top k reviews\n",
    "    results = []\n",
    "    for idx in top_indices:\n",
    "        results.append({\n",
    "            'Original': reviews.iloc[idx],\n",
    "            'Cleaned': cleaned_reviews.iloc[idx],\n",
    "            'Similarity': similarity[idx]\n",
    "        })\n",
    "    return pd.DataFrame(results)\n",
    "\n",
    "print(\"Query: great product with fast shipping\")\n",
    "print(retrieve_reviews(\"great product with fast shipping\"))\n",
    "\n",
    "print(\"\\nQuery: disappointed\")\n",
    "print(retrieve_reviews(\"disappointed\"))\n"
   ]
  },
  {
   "cell_type": "code",
   "execution_count": null,
   "metadata": {},
   "outputs": [],
   "source": []
  }
 ],
 "metadata": {
  "colab": {
   "authorship_tag": "ABX9TyP6FfIJMaQfYD0rnoQRCUIi",
   "provenance": []
  },
  "kernelspec": {
   "display_name": "Python 3 (ipykernel)",
   "language": "python",
   "name": "python3"
  },
  "language_info": {
   "codemirror_mode": {
    "name": "ipython",
    "version": 3
   },
   "file_extension": ".py",
   "mimetype": "text/x-python",
   "name": "python",
   "nbconvert_exporter": "python",
   "pygments_lexer": "ipython3",
   "version": "3.11.5"
  }
 },
 "nbformat": 4,
 "nbformat_minor": 1
}
